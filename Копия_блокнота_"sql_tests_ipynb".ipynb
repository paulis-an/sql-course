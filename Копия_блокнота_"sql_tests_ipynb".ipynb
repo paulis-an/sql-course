{
  "nbformat": 4,
  "nbformat_minor": 0,
  "metadata": {
    "colab": {
      "name": "Копия блокнота \"sql_tests.ipynb\"",
      "provenance": [],
      "mount_file_id": "1jN4H5i4jRGC_zP6uwPomTdsfNMgXxjQX",
      "authorship_tag": "ABX9TyM7ATexR9aLx//zUEoRlkpP",
      "include_colab_link": true
    },
    "kernelspec": {
      "name": "python3",
      "display_name": "Python 3"
    },
    "language_info": {
      "name": "python"
    }
  },
  "cells": [
    {
      "cell_type": "markdown",
      "metadata": {
        "id": "view-in-github",
        "colab_type": "text"
      },
      "source": [
        "<a href=\"https://colab.research.google.com/github/paulis-an/sql-course/blob/main/%D0%9A%D0%BE%D0%BF%D0%B8%D1%8F_%D0%B1%D0%BB%D0%BE%D0%BA%D0%BD%D0%BE%D1%82%D0%B0_%22sql_tests_ipynb%22.ipynb\" target=\"_parent\"><img src=\"https://colab.research.google.com/assets/colab-badge.svg\" alt=\"Open In Colab\"/></a>"
      ]
    },
    {
      "cell_type": "code",
      "metadata": {
        "colab": {
          "base_uri": "https://localhost:8080/"
        },
        "id": "J-LnkFGPMhnT",
        "outputId": "2df7ccfc-ce5f-4757-9564-c51c85084cdf"
      },
      "source": [
        "!gdown --id 1BSHIKQ7rFw5BpTq5nw1UZfjPK_7Mpnbi\n",
        "!mv _sqlite3.cpython-37m-x86_64-linux-gnu.so /usr/lib/python3.7/lib-dynload/\n",
        "import os\n",
        "os.kill(os.getpid(), 9)"
      ],
      "execution_count": null,
      "outputs": [
        {
          "output_type": "stream",
          "text": [
            "Downloading...\n",
            "From: https://drive.google.com/uc?id=1BSHIKQ7rFw5BpTq5nw1UZfjPK_7Mpnbi\n",
            "To: /content/_sqlite3.cpython-37m-x86_64-linux-gnu.so\n",
            "\r0.00B [00:00, ?B/s]\r6.23MB [00:00, 93.2MB/s]\n"
          ],
          "name": "stdout"
        }
      ]
    },
    {
      "cell_type": "code",
      "metadata": {
        "id": "YD5CBSYYzxn_"
      },
      "source": [
        "import pandas as pd\n",
        "import numpy as np"
      ],
      "execution_count": null,
      "outputs": []
    },
    {
      "cell_type": "code",
      "metadata": {
        "id": "reVQu36g5V0P"
      },
      "source": [
        "import sqlite3"
      ],
      "execution_count": null,
      "outputs": []
    },
    {
      "cell_type": "code",
      "metadata": {
        "colab": {
          "base_uri": "https://localhost:8080/",
          "height": 35
        },
        "id": "0HYmR0WpzsqK",
        "outputId": "49691f0c-4617-45c6-c07e-6cb0b3075560"
      },
      "source": [
        "sqlite3.sqlite_version"
      ],
      "execution_count": null,
      "outputs": [
        {
          "output_type": "execute_result",
          "data": {
            "application/vnd.google.colaboratory.intrinsic+json": {
              "type": "string"
            },
            "text/plain": [
              "'3.34.1'"
            ]
          },
          "metadata": {
            "tags": []
          },
          "execution_count": 4
        }
      ]
    },
    {
      "cell_type": "code",
      "metadata": {
        "id": "ZRguoi3Az352"
      },
      "source": [
        "con = sqlite3.connect('db')"
      ],
      "execution_count": null,
      "outputs": []
    },
    {
      "cell_type": "code",
      "metadata": {
        "colab": {
          "base_uri": "https://localhost:8080/"
        },
        "id": "akzRxkQl01iF",
        "outputId": "13a7e8ca-5578-4868-b200-4d5f44bd681c"
      },
      "source": [
        "!gdown --id 1Gj0qVU0Acv-HqRjTIEwvkO4TqJYijehR"
      ],
      "execution_count": null,
      "outputs": [
        {
          "output_type": "stream",
          "text": [
            "Downloading...\n",
            "From: https://drive.google.com/uc?id=1Gj0qVU0Acv-HqRjTIEwvkO4TqJYijehR\n",
            "To: /content/german_credit_augmented.csv\n",
            "\r  0% 0.00/69.6k [00:00<?, ?B/s]\r100% 69.6k/69.6k [00:00<00:00, 24.6MB/s]\n"
          ],
          "name": "stdout"
        }
      ]
    },
    {
      "cell_type": "code",
      "metadata": {
        "id": "4Lo1fKfa25GK"
      },
      "source": [
        "df = pd.read_csv('/content/german_credit_augmented.csv')"
      ],
      "execution_count": null,
      "outputs": []
    },
    {
      "cell_type": "code",
      "metadata": {
        "colab": {
          "base_uri": "https://localhost:8080/",
          "height": 197
        },
        "id": "4agRQF-V3cBg",
        "outputId": "c1ccca39-1c03-4241-86bd-e412a4566a28"
      },
      "source": [
        "df.head()"
      ],
      "execution_count": null,
      "outputs": [
        {
          "output_type": "execute_result",
          "data": {
            "text/html": [
              "<div>\n",
              "<style scoped>\n",
              "    .dataframe tbody tr th:only-of-type {\n",
              "        vertical-align: middle;\n",
              "    }\n",
              "\n",
              "    .dataframe tbody tr th {\n",
              "        vertical-align: top;\n",
              "    }\n",
              "\n",
              "    .dataframe thead th {\n",
              "        text-align: right;\n",
              "    }\n",
              "</style>\n",
              "<table border=\"1\" class=\"dataframe\">\n",
              "  <thead>\n",
              "    <tr style=\"text-align: right;\">\n",
              "      <th></th>\n",
              "      <th>age</th>\n",
              "      <th>sex</th>\n",
              "      <th>job</th>\n",
              "      <th>housing</th>\n",
              "      <th>saving_accounts</th>\n",
              "      <th>checking_account</th>\n",
              "      <th>credit_amount</th>\n",
              "      <th>duration</th>\n",
              "      <th>purpose</th>\n",
              "      <th>default</th>\n",
              "      <th>contract_dt</th>\n",
              "      <th>client_id</th>\n",
              "    </tr>\n",
              "  </thead>\n",
              "  <tbody>\n",
              "    <tr>\n",
              "      <th>0</th>\n",
              "      <td>33</td>\n",
              "      <td>male</td>\n",
              "      <td>2</td>\n",
              "      <td>own</td>\n",
              "      <td>NaN</td>\n",
              "      <td>NaN</td>\n",
              "      <td>3074</td>\n",
              "      <td>9</td>\n",
              "      <td>radio/TV</td>\n",
              "      <td>0</td>\n",
              "      <td>2008-06-29 18:52:00</td>\n",
              "      <td>210</td>\n",
              "    </tr>\n",
              "    <tr>\n",
              "      <th>1</th>\n",
              "      <td>43</td>\n",
              "      <td>male</td>\n",
              "      <td>1</td>\n",
              "      <td>own</td>\n",
              "      <td>little</td>\n",
              "      <td>little</td>\n",
              "      <td>1344</td>\n",
              "      <td>12</td>\n",
              "      <td>car</td>\n",
              "      <td>0</td>\n",
              "      <td>2007-05-20 18:30:19</td>\n",
              "      <td>929</td>\n",
              "    </tr>\n",
              "    <tr>\n",
              "      <th>2</th>\n",
              "      <td>52</td>\n",
              "      <td>male</td>\n",
              "      <td>2</td>\n",
              "      <td>own</td>\n",
              "      <td>quite rich</td>\n",
              "      <td>NaN</td>\n",
              "      <td>936</td>\n",
              "      <td>9</td>\n",
              "      <td>education</td>\n",
              "      <td>0</td>\n",
              "      <td>2008-04-27 08:23:07</td>\n",
              "      <td>200</td>\n",
              "    </tr>\n",
              "    <tr>\n",
              "      <th>3</th>\n",
              "      <td>35</td>\n",
              "      <td>female</td>\n",
              "      <td>3</td>\n",
              "      <td>own</td>\n",
              "      <td>little</td>\n",
              "      <td>NaN</td>\n",
              "      <td>1393</td>\n",
              "      <td>11</td>\n",
              "      <td>car</td>\n",
              "      <td>0</td>\n",
              "      <td>2007-05-06 10:58:22</td>\n",
              "      <td>45</td>\n",
              "    </tr>\n",
              "    <tr>\n",
              "      <th>4</th>\n",
              "      <td>28</td>\n",
              "      <td>male</td>\n",
              "      <td>2</td>\n",
              "      <td>own</td>\n",
              "      <td>little</td>\n",
              "      <td>NaN</td>\n",
              "      <td>776</td>\n",
              "      <td>12</td>\n",
              "      <td>radio/TV</td>\n",
              "      <td>0</td>\n",
              "      <td>2007-07-21 13:22:14</td>\n",
              "      <td>358</td>\n",
              "    </tr>\n",
              "  </tbody>\n",
              "</table>\n",
              "</div>"
            ],
            "text/plain": [
              "   age     sex  job housing  ...    purpose default          contract_dt  client_id\n",
              "0   33    male    2     own  ...   radio/TV       0  2008-06-29 18:52:00        210\n",
              "1   43    male    1     own  ...        car       0  2007-05-20 18:30:19        929\n",
              "2   52    male    2     own  ...  education       0  2008-04-27 08:23:07        200\n",
              "3   35  female    3     own  ...        car       0  2007-05-06 10:58:22         45\n",
              "4   28    male    2     own  ...   radio/TV       0  2007-07-21 13:22:14        358\n",
              "\n",
              "[5 rows x 12 columns]"
            ]
          },
          "metadata": {
            "tags": []
          },
          "execution_count": 8
        }
      ]
    },
    {
      "cell_type": "code",
      "metadata": {
        "id": "-WWUeTKT5hm8"
      },
      "source": [
        "df['contract_dt'] = pd.to_datetime(df['contract_dt'],format='%Y-%m-%d %H:%M:%S')"
      ],
      "execution_count": null,
      "outputs": []
    },
    {
      "cell_type": "code",
      "metadata": {
        "colab": {
          "base_uri": "https://localhost:8080/"
        },
        "id": "sRQeho7b5oBa",
        "outputId": "217befae-809b-466b-bd5b-541ecb180889"
      },
      "source": [
        "df.dtypes"
      ],
      "execution_count": null,
      "outputs": [
        {
          "output_type": "execute_result",
          "data": {
            "text/plain": [
              "age                          int64\n",
              "sex                         object\n",
              "job                          int64\n",
              "housing                     object\n",
              "saving_accounts             object\n",
              "checking_account            object\n",
              "credit_amount                int64\n",
              "duration                     int64\n",
              "purpose                     object\n",
              "default                      int64\n",
              "contract_dt         datetime64[ns]\n",
              "client_id                    int64\n",
              "dtype: object"
            ]
          },
          "metadata": {
            "tags": []
          },
          "execution_count": 11
        }
      ]
    },
    {
      "cell_type": "code",
      "metadata": {
        "id": "c7mmMGCS5sAx"
      },
      "source": [
        "df.to_sql('german_credit',con,index=False,if_exists='replace')"
      ],
      "execution_count": null,
      "outputs": []
    },
    {
      "cell_type": "code",
      "metadata": {
        "colab": {
          "base_uri": "https://localhost:8080/",
          "height": 197
        },
        "id": "ks4yqd1juYNk",
        "outputId": "be4be2a7-fabc-494b-94e6-ed61f8d42c11"
      },
      "source": [
        "df.head()"
      ],
      "execution_count": null,
      "outputs": [
        {
          "output_type": "execute_result",
          "data": {
            "text/html": [
              "<div>\n",
              "<style scoped>\n",
              "    .dataframe tbody tr th:only-of-type {\n",
              "        vertical-align: middle;\n",
              "    }\n",
              "\n",
              "    .dataframe tbody tr th {\n",
              "        vertical-align: top;\n",
              "    }\n",
              "\n",
              "    .dataframe thead th {\n",
              "        text-align: right;\n",
              "    }\n",
              "</style>\n",
              "<table border=\"1\" class=\"dataframe\">\n",
              "  <thead>\n",
              "    <tr style=\"text-align: right;\">\n",
              "      <th></th>\n",
              "      <th>age</th>\n",
              "      <th>sex</th>\n",
              "      <th>job</th>\n",
              "      <th>housing</th>\n",
              "      <th>saving_accounts</th>\n",
              "      <th>checking_account</th>\n",
              "      <th>credit_amount</th>\n",
              "      <th>duration</th>\n",
              "      <th>purpose</th>\n",
              "      <th>default</th>\n",
              "      <th>contract_dt</th>\n",
              "      <th>client_id</th>\n",
              "    </tr>\n",
              "  </thead>\n",
              "  <tbody>\n",
              "    <tr>\n",
              "      <th>0</th>\n",
              "      <td>33</td>\n",
              "      <td>male</td>\n",
              "      <td>2</td>\n",
              "      <td>own</td>\n",
              "      <td>NaN</td>\n",
              "      <td>NaN</td>\n",
              "      <td>3074</td>\n",
              "      <td>9</td>\n",
              "      <td>radio/TV</td>\n",
              "      <td>0</td>\n",
              "      <td>2008-06-29 18:52:00</td>\n",
              "      <td>210</td>\n",
              "    </tr>\n",
              "    <tr>\n",
              "      <th>1</th>\n",
              "      <td>43</td>\n",
              "      <td>male</td>\n",
              "      <td>1</td>\n",
              "      <td>own</td>\n",
              "      <td>little</td>\n",
              "      <td>little</td>\n",
              "      <td>1344</td>\n",
              "      <td>12</td>\n",
              "      <td>car</td>\n",
              "      <td>0</td>\n",
              "      <td>2007-05-20 18:30:19</td>\n",
              "      <td>929</td>\n",
              "    </tr>\n",
              "    <tr>\n",
              "      <th>2</th>\n",
              "      <td>52</td>\n",
              "      <td>male</td>\n",
              "      <td>2</td>\n",
              "      <td>own</td>\n",
              "      <td>quite rich</td>\n",
              "      <td>NaN</td>\n",
              "      <td>936</td>\n",
              "      <td>9</td>\n",
              "      <td>education</td>\n",
              "      <td>0</td>\n",
              "      <td>2008-04-27 08:23:07</td>\n",
              "      <td>200</td>\n",
              "    </tr>\n",
              "    <tr>\n",
              "      <th>3</th>\n",
              "      <td>35</td>\n",
              "      <td>female</td>\n",
              "      <td>3</td>\n",
              "      <td>own</td>\n",
              "      <td>little</td>\n",
              "      <td>NaN</td>\n",
              "      <td>1393</td>\n",
              "      <td>11</td>\n",
              "      <td>car</td>\n",
              "      <td>0</td>\n",
              "      <td>2007-05-06 10:58:22</td>\n",
              "      <td>45</td>\n",
              "    </tr>\n",
              "    <tr>\n",
              "      <th>4</th>\n",
              "      <td>28</td>\n",
              "      <td>male</td>\n",
              "      <td>2</td>\n",
              "      <td>own</td>\n",
              "      <td>little</td>\n",
              "      <td>NaN</td>\n",
              "      <td>776</td>\n",
              "      <td>12</td>\n",
              "      <td>radio/TV</td>\n",
              "      <td>0</td>\n",
              "      <td>2007-07-21 13:22:14</td>\n",
              "      <td>358</td>\n",
              "    </tr>\n",
              "  </tbody>\n",
              "</table>\n",
              "</div>"
            ],
            "text/plain": [
              "   age     sex  job housing  ...    purpose default          contract_dt  client_id\n",
              "0   33    male    2     own  ...   radio/TV       0  2008-06-29 18:52:00        210\n",
              "1   43    male    1     own  ...        car       0  2007-05-20 18:30:19        929\n",
              "2   52    male    2     own  ...  education       0  2008-04-27 08:23:07        200\n",
              "3   35  female    3     own  ...        car       0  2007-05-06 10:58:22         45\n",
              "4   28    male    2     own  ...   radio/TV       0  2007-07-21 13:22:14        358\n",
              "\n",
              "[5 rows x 12 columns]"
            ]
          },
          "metadata": {
            "tags": []
          },
          "execution_count": 10
        }
      ]
    },
    {
      "cell_type": "code",
      "metadata": {
        "id": "_a1fHArn6wCL"
      },
      "source": [
        "def select(sql):\n",
        "  return pd.read_sql(sql,con)\n"
      ],
      "execution_count": null,
      "outputs": []
    },
    {
      "cell_type": "code",
      "metadata": {
        "id": "3Vhe8pNv685h"
      },
      "source": [
        "sql = '''select\n",
        " t.age * 3 as age_mult3,\n",
        " t.sex from german_credit t limit 5'''"
      ],
      "execution_count": null,
      "outputs": []
    },
    {
      "cell_type": "code",
      "metadata": {
        "id": "wT0aGikJ7khX",
        "colab": {
          "base_uri": "https://localhost:8080/",
          "height": 197
        },
        "outputId": "f465bce3-cbad-4e38-ea5c-39f4efc97d35"
      },
      "source": [
        "select(sql)"
      ],
      "execution_count": null,
      "outputs": [
        {
          "output_type": "execute_result",
          "data": {
            "text/html": [
              "<div>\n",
              "<style scoped>\n",
              "    .dataframe tbody tr th:only-of-type {\n",
              "        vertical-align: middle;\n",
              "    }\n",
              "\n",
              "    .dataframe tbody tr th {\n",
              "        vertical-align: top;\n",
              "    }\n",
              "\n",
              "    .dataframe thead th {\n",
              "        text-align: right;\n",
              "    }\n",
              "</style>\n",
              "<table border=\"1\" class=\"dataframe\">\n",
              "  <thead>\n",
              "    <tr style=\"text-align: right;\">\n",
              "      <th></th>\n",
              "      <th>age_mult3</th>\n",
              "      <th>sex</th>\n",
              "    </tr>\n",
              "  </thead>\n",
              "  <tbody>\n",
              "    <tr>\n",
              "      <th>0</th>\n",
              "      <td>99</td>\n",
              "      <td>male</td>\n",
              "    </tr>\n",
              "    <tr>\n",
              "      <th>1</th>\n",
              "      <td>129</td>\n",
              "      <td>male</td>\n",
              "    </tr>\n",
              "    <tr>\n",
              "      <th>2</th>\n",
              "      <td>156</td>\n",
              "      <td>male</td>\n",
              "    </tr>\n",
              "    <tr>\n",
              "      <th>3</th>\n",
              "      <td>105</td>\n",
              "      <td>female</td>\n",
              "    </tr>\n",
              "    <tr>\n",
              "      <th>4</th>\n",
              "      <td>84</td>\n",
              "      <td>male</td>\n",
              "    </tr>\n",
              "  </tbody>\n",
              "</table>\n",
              "</div>"
            ],
            "text/plain": [
              "   age_mult3     sex\n",
              "0         99    male\n",
              "1        129    male\n",
              "2        156    male\n",
              "3        105  female\n",
              "4         84    male"
            ]
          },
          "metadata": {
            "tags": []
          },
          "execution_count": 13
        }
      ]
    },
    {
      "cell_type": "code",
      "metadata": {
        "id": "4Tlkz5NHu-It"
      },
      "source": [
        "sql = '''select count(*) from german_credit t \n",
        "        where t.contract_dt between '2007-01-01' and '2007-12-31' and\n",
        "        t.purpose = 'car'\n",
        "        order by contract_dt'''"
      ],
      "execution_count": null,
      "outputs": []
    },
    {
      "cell_type": "code",
      "metadata": {
        "id": "vcf46I4IvIdP"
      },
      "source": [
        "select(sql)"
      ],
      "execution_count": null,
      "outputs": []
    },
    {
      "cell_type": "code",
      "metadata": {
        "id": "XeR6PicTyDgm"
      },
      "source": [
        "sql = '''select * from german_credit t \n",
        "        where t.contract_dt between '2007-01-01' and '2007-12-31' \n",
        "        --and t.purpose = 'car'\n",
        "        order by contract_dt\n",
        "        limit 10'''"
      ],
      "execution_count": null,
      "outputs": []
    },
    {
      "cell_type": "code",
      "metadata": {
        "id": "jQ1DgrhiyQ-i"
      },
      "source": [
        "select(sql)"
      ],
      "execution_count": null,
      "outputs": []
    },
    {
      "cell_type": "code",
      "metadata": {
        "id": "rVVvudoiy8TI"
      },
      "source": [
        "sql = '''select * from german_credit t \n",
        "        where t.contract_dt between '2007-01-01' and '2007-12-31' \n",
        "        and t.purpose in('car', 'repairs')\n",
        "        order by contract_dt\n",
        "        '''"
      ],
      "execution_count": null,
      "outputs": []
    },
    {
      "cell_type": "code",
      "metadata": {
        "id": "aqjliDYCzLIy"
      },
      "source": [
        "select(sql)"
      ],
      "execution_count": null,
      "outputs": []
    },
    {
      "cell_type": "code",
      "metadata": {
        "id": "BXRiQpw8HzHO"
      },
      "source": [
        "t = pd.DataFrame({'purpose':['машина','на машину', 'на покупку машины', 'автомобиль', 'на возвращение кредита 2007'],\n",
        "              'amount':[1000, 400, 600, 700, 1500]})"
      ],
      "execution_count": null,
      "outputs": []
    },
    {
      "cell_type": "code",
      "metadata": {
        "id": "HoNUonyw4OJK"
      },
      "source": [
        "t"
      ],
      "execution_count": null,
      "outputs": []
    },
    {
      "cell_type": "code",
      "metadata": {
        "id": "NslaK09i0_QY"
      },
      "source": [
        "t.to_sql('purpose', con, index=False, if_exists=\"replace\")"
      ],
      "execution_count": null,
      "outputs": []
    },
    {
      "cell_type": "code",
      "metadata": {
        "id": "5UAVnivH3dIC"
      },
      "source": [
        "sql = ''' select * from purpose t\n",
        "where (t.purpose like '%машин%'\n",
        "or t.purpose like '%авто%')\n",
        "and t.amount > 600\n",
        "'''"
      ],
      "execution_count": null,
      "outputs": []
    },
    {
      "cell_type": "code",
      "metadata": {
        "id": "DPn0_YXm3rWR"
      },
      "source": [
        "select(sql)"
      ],
      "execution_count": null,
      "outputs": []
    },
    {
      "cell_type": "code",
      "metadata": {
        "id": "3OvtDIUT3tWx"
      },
      "source": [
        "sql = '''select count(*) from german_credit t \n",
        "where t.credit_amount > 1000\n",
        "'''"
      ],
      "execution_count": null,
      "outputs": []
    },
    {
      "cell_type": "code",
      "metadata": {
        "id": "KiQ9BsAGJCKc"
      },
      "source": [
        "select(sql)"
      ],
      "execution_count": null,
      "outputs": []
    },
    {
      "cell_type": "code",
      "metadata": {
        "id": "bAVcoSXMJIcV"
      },
      "source": [
        "sql = '''select t.credit_amount, \n",
        "case when t.credit_amount > 1000 then 1 else 0 end as greater_1000_flag,\n",
        "iif(t.credit_amount > 1000, 1, 0) as greater_1000_flag2\n",
        "from german_credit t;\n",
        "'''"
      ],
      "execution_count": null,
      "outputs": []
    },
    {
      "cell_type": "code",
      "metadata": {
        "id": "dIj3T0jEJ9Vb"
      },
      "source": [
        "select(sql)"
      ],
      "execution_count": null,
      "outputs": []
    },
    {
      "cell_type": "code",
      "metadata": {
        "id": "pcJTDifsKADi"
      },
      "source": [
        "sql = '''select \n",
        "avg(case when t.credit_amount > 1000 then 1 else 0 end) as greater_1000_frac\n",
        "from german_credit t;\n",
        "'''"
      ],
      "execution_count": null,
      "outputs": []
    },
    {
      "cell_type": "code",
      "metadata": {
        "id": "qRAzkcxCOeOU"
      },
      "source": [
        "select(sql)"
      ],
      "execution_count": null,
      "outputs": []
    },
    {
      "cell_type": "markdown",
      "metadata": {
        "id": "Y089W77TQHU7"
      },
      "source": [
        "Создание таблицы из запроса\n"
      ]
    },
    {
      "cell_type": "code",
      "metadata": {
        "id": "BWLeTinYOgUj"
      },
      "source": [
        "cur = con.cursor()"
      ],
      "execution_count": null,
      "outputs": []
    },
    {
      "cell_type": "code",
      "metadata": {
        "id": "9-1EPN0UQSSX"
      },
      "source": [
        "sql = '''\n",
        "drop table if exists greater_1000_credit;\n",
        "\n",
        "create table greater_1000_credit as\n",
        "select *\n",
        "from german_credit t;\n",
        "'''"
      ],
      "execution_count": null,
      "outputs": []
    },
    {
      "cell_type": "code",
      "metadata": {
        "id": "bRLNSz6yQr0_"
      },
      "source": [
        "cur.executescript(sql)"
      ],
      "execution_count": null,
      "outputs": []
    },
    {
      "cell_type": "code",
      "metadata": {
        "id": "ZoAss4LJQ0EW"
      },
      "source": [
        "sql = '''\n",
        "select * from greater_1000_credit t\n",
        "where t.credit_amount > 1000\n",
        "'''"
      ],
      "execution_count": null,
      "outputs": []
    },
    {
      "cell_type": "code",
      "metadata": {
        "id": "DzotgN6GQ5vn"
      },
      "source": [
        "select(sql)"
      ],
      "execution_count": null,
      "outputs": []
    },
    {
      "cell_type": "markdown",
      "metadata": {
        "id": "Iu_lx8WWy9v0"
      },
      "source": [
        "UNION ALL"
      ]
    },
    {
      "cell_type": "code",
      "metadata": {
        "id": "aYyG7DE5TmSZ"
      },
      "source": [
        "jan = pd.DataFrame({'month':['jan', 'jan'], 'revenue':[1,2]})\n",
        "feb = pd.DataFrame({'month':['feb', 'feb'], 'revenue':[1,2]})"
      ],
      "execution_count": null,
      "outputs": []
    },
    {
      "cell_type": "code",
      "metadata": {
        "id": "P-52Ba-qzVWY"
      },
      "source": [
        "jan.to_sql('jan', con, index = False, if_exists='replace')\n",
        "feb.to_sql('feb', con, index = False, if_exists='replace')"
      ],
      "execution_count": null,
      "outputs": []
    },
    {
      "cell_type": "code",
      "metadata": {
        "id": "q2rVzeNT1Jjx"
      },
      "source": [
        "sql = '''\n",
        "select * from jan t\n",
        "'''"
      ],
      "execution_count": null,
      "outputs": []
    },
    {
      "cell_type": "code",
      "metadata": {
        "id": "OUXTE7fu1bGB"
      },
      "source": [
        "select(sql)"
      ],
      "execution_count": null,
      "outputs": []
    },
    {
      "cell_type": "code",
      "metadata": {
        "id": "b66Gik461dOi"
      },
      "source": [
        "sql = '''\n",
        "select * from jan t\n",
        "UNION ALL\n",
        "select * from feb\n",
        "'''"
      ],
      "execution_count": null,
      "outputs": []
    },
    {
      "cell_type": "code",
      "metadata": {
        "id": "UUnDkhnb10dI"
      },
      "source": [
        "select(sql)"
      ],
      "execution_count": null,
      "outputs": []
    },
    {
      "cell_type": "code",
      "metadata": {
        "id": "dLJa1QAA13dg"
      },
      "source": [
        "sql = '''\n",
        "select t.revenue, 'jan' as month\n",
        "from jan t\n",
        "UNION ALL\n",
        "select feb.revenue, 'feb' as month\n",
        "from feb\n",
        "'''"
      ],
      "execution_count": null,
      "outputs": []
    },
    {
      "cell_type": "code",
      "metadata": {
        "id": "XbOPcoPR26dN"
      },
      "source": [
        "select(sql)"
      ],
      "execution_count": null,
      "outputs": []
    },
    {
      "cell_type": "markdown",
      "metadata": {
        "id": "DMyg8eIi_EdK"
      },
      "source": [
        "GROUP BY"
      ]
    },
    {
      "cell_type": "code",
      "metadata": {
        "id": "6na1S9tw28GW"
      },
      "source": [
        "sql = '''\n",
        "select t.sex,\n",
        "count(*) as count,\n",
        "avg(t.credit_amount) as avg_credit\n",
        "from german_credit t\n",
        "group by t.sex\n",
        "'''"
      ],
      "execution_count": null,
      "outputs": []
    },
    {
      "cell_type": "code",
      "metadata": {
        "id": "U96mo8F293qs"
      },
      "source": [
        "select(sql)"
      ],
      "execution_count": null,
      "outputs": []
    },
    {
      "cell_type": "code",
      "metadata": {
        "id": "geiuhp2E95mY"
      },
      "source": [
        "sql = '''\n",
        "select t.housing,\n",
        "count(*) as count,\n",
        "avg(t.credit_amount) as avg_credit\n",
        "from german_credit t\n",
        "group by t.housing\n",
        "'''"
      ],
      "execution_count": null,
      "outputs": []
    },
    {
      "cell_type": "code",
      "metadata": {
        "id": "9g6wEf4QE0zO"
      },
      "source": [
        "select(sql)"
      ],
      "execution_count": null,
      "outputs": []
    },
    {
      "cell_type": "code",
      "metadata": {
        "id": "PDvqXREkE2qB"
      },
      "source": [
        "sql='''\n",
        "select count(t.checking_account), count(*) from german_credit t\n",
        "'''"
      ],
      "execution_count": null,
      "outputs": []
    },
    {
      "cell_type": "code",
      "metadata": {
        "id": "fkJgUeBYGICe"
      },
      "source": [
        "select(sql)"
      ],
      "execution_count": null,
      "outputs": []
    },
    {
      "cell_type": "code",
      "metadata": {
        "id": "S8y23LHJGJQX"
      },
      "source": [
        "sql='''\n",
        "select t.checking_account, count(t.checking_account), count(*), (count(*) - count(t.checking_account)) as None_count from german_credit t\n",
        "group by t.checking_account\n",
        "'''"
      ],
      "execution_count": null,
      "outputs": []
    },
    {
      "cell_type": "code",
      "metadata": {
        "colab": {
          "base_uri": "https://localhost:8080/",
          "height": 167
        },
        "id": "Igu70OU3GvaH",
        "outputId": "c43fa599-49d8-4a9e-f09a-20c1e522dcfa"
      },
      "source": [
        "select(sql)"
      ],
      "execution_count": null,
      "outputs": [
        {
          "output_type": "execute_result",
          "data": {
            "text/html": [
              "<div>\n",
              "<style scoped>\n",
              "    .dataframe tbody tr th:only-of-type {\n",
              "        vertical-align: middle;\n",
              "    }\n",
              "\n",
              "    .dataframe tbody tr th {\n",
              "        vertical-align: top;\n",
              "    }\n",
              "\n",
              "    .dataframe thead th {\n",
              "        text-align: right;\n",
              "    }\n",
              "</style>\n",
              "<table border=\"1\" class=\"dataframe\">\n",
              "  <thead>\n",
              "    <tr style=\"text-align: right;\">\n",
              "      <th></th>\n",
              "      <th>checking_account</th>\n",
              "      <th>count(t.checking_account)</th>\n",
              "      <th>count(*)</th>\n",
              "      <th>None_count</th>\n",
              "    </tr>\n",
              "  </thead>\n",
              "  <tbody>\n",
              "    <tr>\n",
              "      <th>0</th>\n",
              "      <td>None</td>\n",
              "      <td>0</td>\n",
              "      <td>394</td>\n",
              "      <td>394</td>\n",
              "    </tr>\n",
              "    <tr>\n",
              "      <th>1</th>\n",
              "      <td>little</td>\n",
              "      <td>274</td>\n",
              "      <td>274</td>\n",
              "      <td>0</td>\n",
              "    </tr>\n",
              "    <tr>\n",
              "      <th>2</th>\n",
              "      <td>moderate</td>\n",
              "      <td>269</td>\n",
              "      <td>269</td>\n",
              "      <td>0</td>\n",
              "    </tr>\n",
              "    <tr>\n",
              "      <th>3</th>\n",
              "      <td>rich</td>\n",
              "      <td>63</td>\n",
              "      <td>63</td>\n",
              "      <td>0</td>\n",
              "    </tr>\n",
              "  </tbody>\n",
              "</table>\n",
              "</div>"
            ],
            "text/plain": [
              "  checking_account  count(t.checking_account)  count(*)  None_count\n",
              "0             None                          0       394         394\n",
              "1           little                        274       274           0\n",
              "2         moderate                        269       269           0\n",
              "3             rich                         63        63           0"
            ]
          },
          "metadata": {
            "tags": []
          },
          "execution_count": 54
        }
      ]
    },
    {
      "cell_type": "code",
      "metadata": {
        "id": "Dgi1RJ-aGwyv"
      },
      "source": [
        "sql='''\n",
        "select \n",
        "sum(case when t.checking_account is null then 1 else 0 end) as is_null,\n",
        "count(case when t.checking_account is null then 1 else null end) as is_null2 from german_credit t\n",
        "'''"
      ],
      "execution_count": null,
      "outputs": []
    },
    {
      "cell_type": "code",
      "metadata": {
        "colab": {
          "base_uri": "https://localhost:8080/",
          "height": 77
        },
        "id": "XEy59x-LKbHb",
        "outputId": "45f2f971-77cf-4a5a-f4d2-67ffdfcda35e"
      },
      "source": [
        "select(sql)"
      ],
      "execution_count": null,
      "outputs": [
        {
          "output_type": "execute_result",
          "data": {
            "text/html": [
              "<div>\n",
              "<style scoped>\n",
              "    .dataframe tbody tr th:only-of-type {\n",
              "        vertical-align: middle;\n",
              "    }\n",
              "\n",
              "    .dataframe tbody tr th {\n",
              "        vertical-align: top;\n",
              "    }\n",
              "\n",
              "    .dataframe thead th {\n",
              "        text-align: right;\n",
              "    }\n",
              "</style>\n",
              "<table border=\"1\" class=\"dataframe\">\n",
              "  <thead>\n",
              "    <tr style=\"text-align: right;\">\n",
              "      <th></th>\n",
              "      <th>is_null</th>\n",
              "      <th>is_null2</th>\n",
              "    </tr>\n",
              "  </thead>\n",
              "  <tbody>\n",
              "    <tr>\n",
              "      <th>0</th>\n",
              "      <td>394</td>\n",
              "      <td>394</td>\n",
              "    </tr>\n",
              "  </tbody>\n",
              "</table>\n",
              "</div>"
            ],
            "text/plain": [
              "   is_null  is_null2\n",
              "0      394       394"
            ]
          },
          "metadata": {
            "tags": []
          },
          "execution_count": 56
        }
      ]
    },
    {
      "cell_type": "code",
      "metadata": {
        "id": "L3gFLPXyKcRT"
      },
      "source": [
        "sql = '''\n",
        "select date(t.contract_dt, 'start of month')  as month, count(*) as credit_cnt,\n",
        "count(distinct t.client_id) as client_id_unique,\n",
        "sum(t.credit_amount) as sum, round(avg(t.credit_amount), 2) as avg\n",
        "from german_credit t\n",
        "group by 1\n",
        "order by 1\n",
        "'''"
      ],
      "execution_count": null,
      "outputs": []
    },
    {
      "cell_type": "code",
      "metadata": {
        "colab": {
          "base_uri": "https://localhost:8080/",
          "height": 467
        },
        "id": "Ox6iVkca7Hnw",
        "outputId": "a6ad7d84-e94a-4067-bd8e-482dfca4675f"
      },
      "source": [
        "select(sql)"
      ],
      "execution_count": null,
      "outputs": [
        {
          "output_type": "execute_result",
          "data": {
            "text/html": [
              "<div>\n",
              "<style scoped>\n",
              "    .dataframe tbody tr th:only-of-type {\n",
              "        vertical-align: middle;\n",
              "    }\n",
              "\n",
              "    .dataframe tbody tr th {\n",
              "        vertical-align: top;\n",
              "    }\n",
              "\n",
              "    .dataframe thead th {\n",
              "        text-align: right;\n",
              "    }\n",
              "</style>\n",
              "<table border=\"1\" class=\"dataframe\">\n",
              "  <thead>\n",
              "    <tr style=\"text-align: right;\">\n",
              "      <th></th>\n",
              "      <th>month</th>\n",
              "      <th>credit_cnt</th>\n",
              "      <th>client_id_unique</th>\n",
              "      <th>sum</th>\n",
              "      <th>avg</th>\n",
              "    </tr>\n",
              "  </thead>\n",
              "  <tbody>\n",
              "    <tr>\n",
              "      <th>0</th>\n",
              "      <td>2007-05-01</td>\n",
              "      <td>81</td>\n",
              "      <td>81</td>\n",
              "      <td>207663</td>\n",
              "      <td>2563.74</td>\n",
              "    </tr>\n",
              "    <tr>\n",
              "      <th>1</th>\n",
              "      <td>2007-06-01</td>\n",
              "      <td>74</td>\n",
              "      <td>74</td>\n",
              "      <td>239594</td>\n",
              "      <td>3237.76</td>\n",
              "    </tr>\n",
              "    <tr>\n",
              "      <th>2</th>\n",
              "      <td>2007-07-01</td>\n",
              "      <td>71</td>\n",
              "      <td>71</td>\n",
              "      <td>224333</td>\n",
              "      <td>3159.62</td>\n",
              "    </tr>\n",
              "    <tr>\n",
              "      <th>3</th>\n",
              "      <td>2007-08-01</td>\n",
              "      <td>57</td>\n",
              "      <td>57</td>\n",
              "      <td>178569</td>\n",
              "      <td>3132.79</td>\n",
              "    </tr>\n",
              "    <tr>\n",
              "      <th>4</th>\n",
              "      <td>2007-09-01</td>\n",
              "      <td>58</td>\n",
              "      <td>58</td>\n",
              "      <td>186909</td>\n",
              "      <td>3222.57</td>\n",
              "    </tr>\n",
              "    <tr>\n",
              "      <th>5</th>\n",
              "      <td>2007-10-01</td>\n",
              "      <td>70</td>\n",
              "      <td>70</td>\n",
              "      <td>188534</td>\n",
              "      <td>2693.34</td>\n",
              "    </tr>\n",
              "    <tr>\n",
              "      <th>6</th>\n",
              "      <td>2007-11-01</td>\n",
              "      <td>87</td>\n",
              "      <td>87</td>\n",
              "      <td>300504</td>\n",
              "      <td>3454.07</td>\n",
              "    </tr>\n",
              "    <tr>\n",
              "      <th>7</th>\n",
              "      <td>2007-12-01</td>\n",
              "      <td>77</td>\n",
              "      <td>77</td>\n",
              "      <td>273973</td>\n",
              "      <td>3558.09</td>\n",
              "    </tr>\n",
              "    <tr>\n",
              "      <th>8</th>\n",
              "      <td>2008-01-01</td>\n",
              "      <td>93</td>\n",
              "      <td>93</td>\n",
              "      <td>288080</td>\n",
              "      <td>3097.63</td>\n",
              "    </tr>\n",
              "    <tr>\n",
              "      <th>9</th>\n",
              "      <td>2008-02-01</td>\n",
              "      <td>55</td>\n",
              "      <td>55</td>\n",
              "      <td>211128</td>\n",
              "      <td>3838.69</td>\n",
              "    </tr>\n",
              "    <tr>\n",
              "      <th>10</th>\n",
              "      <td>2008-03-01</td>\n",
              "      <td>63</td>\n",
              "      <td>63</td>\n",
              "      <td>204944</td>\n",
              "      <td>3253.08</td>\n",
              "    </tr>\n",
              "    <tr>\n",
              "      <th>11</th>\n",
              "      <td>2008-04-01</td>\n",
              "      <td>85</td>\n",
              "      <td>85</td>\n",
              "      <td>305409</td>\n",
              "      <td>3593.05</td>\n",
              "    </tr>\n",
              "    <tr>\n",
              "      <th>12</th>\n",
              "      <td>2008-05-01</td>\n",
              "      <td>67</td>\n",
              "      <td>67</td>\n",
              "      <td>263043</td>\n",
              "      <td>3926.01</td>\n",
              "    </tr>\n",
              "    <tr>\n",
              "      <th>13</th>\n",
              "      <td>2008-06-01</td>\n",
              "      <td>62</td>\n",
              "      <td>62</td>\n",
              "      <td>198575</td>\n",
              "      <td>3202.82</td>\n",
              "    </tr>\n",
              "  </tbody>\n",
              "</table>\n",
              "</div>"
            ],
            "text/plain": [
              "         month  credit_cnt  client_id_unique     sum      avg\n",
              "0   2007-05-01          81                81  207663  2563.74\n",
              "1   2007-06-01          74                74  239594  3237.76\n",
              "2   2007-07-01          71                71  224333  3159.62\n",
              "3   2007-08-01          57                57  178569  3132.79\n",
              "4   2007-09-01          58                58  186909  3222.57\n",
              "5   2007-10-01          70                70  188534  2693.34\n",
              "6   2007-11-01          87                87  300504  3454.07\n",
              "7   2007-12-01          77                77  273973  3558.09\n",
              "8   2008-01-01          93                93  288080  3097.63\n",
              "9   2008-02-01          55                55  211128  3838.69\n",
              "10  2008-03-01          63                63  204944  3253.08\n",
              "11  2008-04-01          85                85  305409  3593.05\n",
              "12  2008-05-01          67                67  263043  3926.01\n",
              "13  2008-06-01          62                62  198575  3202.82"
            ]
          },
          "metadata": {
            "tags": []
          },
          "execution_count": 97
        }
      ]
    },
    {
      "cell_type": "code",
      "metadata": {
        "id": "YNKxsnfGADCL"
      },
      "source": [
        "sql = '''\n",
        "select count(distinct t.credit_amount) as cridit_amount_unique from german_credit t '''"
      ],
      "execution_count": null,
      "outputs": []
    },
    {
      "cell_type": "code",
      "metadata": {
        "colab": {
          "base_uri": "https://localhost:8080/",
          "height": 77
        },
        "id": "T96wnc-s2XHk",
        "outputId": "176ae15b-f57c-44c3-95fc-e97eb6165b1a"
      },
      "source": [
        "select(sql)"
      ],
      "execution_count": null,
      "outputs": [
        {
          "output_type": "execute_result",
          "data": {
            "text/html": [
              "<div>\n",
              "<style scoped>\n",
              "    .dataframe tbody tr th:only-of-type {\n",
              "        vertical-align: middle;\n",
              "    }\n",
              "\n",
              "    .dataframe tbody tr th {\n",
              "        vertical-align: top;\n",
              "    }\n",
              "\n",
              "    .dataframe thead th {\n",
              "        text-align: right;\n",
              "    }\n",
              "</style>\n",
              "<table border=\"1\" class=\"dataframe\">\n",
              "  <thead>\n",
              "    <tr style=\"text-align: right;\">\n",
              "      <th></th>\n",
              "      <th>cridit_amount_unique</th>\n",
              "    </tr>\n",
              "  </thead>\n",
              "  <tbody>\n",
              "    <tr>\n",
              "      <th>0</th>\n",
              "      <td>921</td>\n",
              "    </tr>\n",
              "  </tbody>\n",
              "</table>\n",
              "</div>"
            ],
            "text/plain": [
              "   cridit_amount_unique\n",
              "0                   921"
            ]
          },
          "metadata": {
            "tags": []
          },
          "execution_count": 21
        }
      ]
    },
    {
      "cell_type": "code",
      "metadata": {
        "id": "M6dJGNjJ2ZIZ"
      },
      "source": [
        "sql = '''\n",
        "select t.credit_amount,\n",
        "case  when t.credit_amount < 1000 then '1. <1000' \n",
        "      when t.credit_amount < 2000 then '2. 1000-2000'\n",
        "      when t.credit_amount < 3000 then '3. 2000-3000'\n",
        "      when t.credit_amount >= 3000 then '4. >= 3000'\n",
        "      else 'other' end as credit_amount_bin\n",
        " from german_credit t '''"
      ],
      "execution_count": null,
      "outputs": []
    },
    {
      "cell_type": "code",
      "metadata": {
        "colab": {
          "base_uri": "https://localhost:8080/",
          "height": 406
        },
        "id": "WRnUzdAo3KGr",
        "outputId": "5d8b331c-834c-404a-c9d9-6e442608bd10"
      },
      "source": [
        "select(sql)"
      ],
      "execution_count": null,
      "outputs": [
        {
          "output_type": "execute_result",
          "data": {
            "text/html": [
              "<div>\n",
              "<style scoped>\n",
              "    .dataframe tbody tr th:only-of-type {\n",
              "        vertical-align: middle;\n",
              "    }\n",
              "\n",
              "    .dataframe tbody tr th {\n",
              "        vertical-align: top;\n",
              "    }\n",
              "\n",
              "    .dataframe thead th {\n",
              "        text-align: right;\n",
              "    }\n",
              "</style>\n",
              "<table border=\"1\" class=\"dataframe\">\n",
              "  <thead>\n",
              "    <tr style=\"text-align: right;\">\n",
              "      <th></th>\n",
              "      <th>credit_amount</th>\n",
              "      <th>credit_amount_bin</th>\n",
              "    </tr>\n",
              "  </thead>\n",
              "  <tbody>\n",
              "    <tr>\n",
              "      <th>0</th>\n",
              "      <td>3074</td>\n",
              "      <td>4. &gt;= 3000</td>\n",
              "    </tr>\n",
              "    <tr>\n",
              "      <th>1</th>\n",
              "      <td>1344</td>\n",
              "      <td>2. 1000-2000</td>\n",
              "    </tr>\n",
              "    <tr>\n",
              "      <th>2</th>\n",
              "      <td>936</td>\n",
              "      <td>1. &lt;1000</td>\n",
              "    </tr>\n",
              "    <tr>\n",
              "      <th>3</th>\n",
              "      <td>1393</td>\n",
              "      <td>2. 1000-2000</td>\n",
              "    </tr>\n",
              "    <tr>\n",
              "      <th>4</th>\n",
              "      <td>776</td>\n",
              "      <td>1. &lt;1000</td>\n",
              "    </tr>\n",
              "    <tr>\n",
              "      <th>...</th>\n",
              "      <td>...</td>\n",
              "      <td>...</td>\n",
              "    </tr>\n",
              "    <tr>\n",
              "      <th>995</th>\n",
              "      <td>2600</td>\n",
              "      <td>3. 2000-3000</td>\n",
              "    </tr>\n",
              "    <tr>\n",
              "      <th>996</th>\n",
              "      <td>4455</td>\n",
              "      <td>4. &gt;= 3000</td>\n",
              "    </tr>\n",
              "    <tr>\n",
              "      <th>997</th>\n",
              "      <td>6403</td>\n",
              "      <td>4. &gt;= 3000</td>\n",
              "    </tr>\n",
              "    <tr>\n",
              "      <th>998</th>\n",
              "      <td>5003</td>\n",
              "      <td>4. &gt;= 3000</td>\n",
              "    </tr>\n",
              "    <tr>\n",
              "      <th>999</th>\n",
              "      <td>1804</td>\n",
              "      <td>2. 1000-2000</td>\n",
              "    </tr>\n",
              "  </tbody>\n",
              "</table>\n",
              "<p>1000 rows × 2 columns</p>\n",
              "</div>"
            ],
            "text/plain": [
              "     credit_amount credit_amount_bin\n",
              "0             3074        4. >= 3000\n",
              "1             1344      2. 1000-2000\n",
              "2              936          1. <1000\n",
              "3             1393      2. 1000-2000\n",
              "4              776          1. <1000\n",
              "..             ...               ...\n",
              "995           2600      3. 2000-3000\n",
              "996           4455        4. >= 3000\n",
              "997           6403        4. >= 3000\n",
              "998           5003        4. >= 3000\n",
              "999           1804      2. 1000-2000\n",
              "\n",
              "[1000 rows x 2 columns]"
            ]
          },
          "metadata": {
            "tags": []
          },
          "execution_count": 50
        }
      ]
    },
    {
      "cell_type": "code",
      "metadata": {
        "id": "uops2Fmh3Lip"
      },
      "source": [
        "sql = '''\n",
        "select \n",
        "case  when t.credit_amount < 1000 then '1. <1000' \n",
        "      when t.credit_amount < 2000 then '2. 1000-2000'\n",
        "      when t.credit_amount < 3000 then '3. 2000-3000'\n",
        "      when t.credit_amount >= 3000 then '4. >= 3000'\n",
        "      else 'other' end as credit_amount_bin, \n",
        "count(*) as credit_count\n",
        "from german_credit t \n",
        "group by 1\n",
        "'''"
      ],
      "execution_count": null,
      "outputs": []
    },
    {
      "cell_type": "code",
      "metadata": {
        "colab": {
          "base_uri": "https://localhost:8080/",
          "height": 167
        },
        "id": "-bpT9jo36cdl",
        "outputId": "6f137168-c027-4d9d-d701-ee8688ddb681"
      },
      "source": [
        "select(sql)"
      ],
      "execution_count": null,
      "outputs": [
        {
          "output_type": "execute_result",
          "data": {
            "text/html": [
              "<div>\n",
              "<style scoped>\n",
              "    .dataframe tbody tr th:only-of-type {\n",
              "        vertical-align: middle;\n",
              "    }\n",
              "\n",
              "    .dataframe tbody tr th {\n",
              "        vertical-align: top;\n",
              "    }\n",
              "\n",
              "    .dataframe thead th {\n",
              "        text-align: right;\n",
              "    }\n",
              "</style>\n",
              "<table border=\"1\" class=\"dataframe\">\n",
              "  <thead>\n",
              "    <tr style=\"text-align: right;\">\n",
              "      <th></th>\n",
              "      <th>credit_amount_bin</th>\n",
              "      <th>credit_count</th>\n",
              "    </tr>\n",
              "  </thead>\n",
              "  <tbody>\n",
              "    <tr>\n",
              "      <th>0</th>\n",
              "      <td>1. &lt;1000</td>\n",
              "      <td>116</td>\n",
              "    </tr>\n",
              "    <tr>\n",
              "      <th>1</th>\n",
              "      <td>2. 1000-2000</td>\n",
              "      <td>316</td>\n",
              "    </tr>\n",
              "    <tr>\n",
              "      <th>2</th>\n",
              "      <td>3. 2000-3000</td>\n",
              "      <td>188</td>\n",
              "    </tr>\n",
              "    <tr>\n",
              "      <th>3</th>\n",
              "      <td>4. &gt;= 3000</td>\n",
              "      <td>380</td>\n",
              "    </tr>\n",
              "  </tbody>\n",
              "</table>\n",
              "</div>"
            ],
            "text/plain": [
              "  credit_amount_bin  credit_count\n",
              "0          1. <1000           116\n",
              "1      2. 1000-2000           316\n",
              "2      3. 2000-3000           188\n",
              "3        4. >= 3000           380"
            ]
          },
          "metadata": {
            "tags": []
          },
          "execution_count": 74
        }
      ]
    },
    {
      "cell_type": "markdown",
      "metadata": {
        "id": "5M0h6BpsbIvr"
      },
      "source": [
        "Перменнные в столбцах сводной таблицы"
      ]
    },
    {
      "cell_type": "code",
      "metadata": {
        "id": "ljM-Wtjo6eES"
      },
      "source": [
        "sql = '''\n",
        "select t.housing, \n",
        "  count(case when t.sex = 'female' then 1 else null end) as female,\n",
        "  count(case when t.sex = 'male' then 1 else null end) as male,\n",
        "  count(*) as cnt\n",
        "  from german_credit t\n",
        "  group by t.housing\n",
        "'''"
      ],
      "execution_count": null,
      "outputs": []
    },
    {
      "cell_type": "code",
      "metadata": {
        "id": "PAFoscnsjViv"
      },
      "source": [
        ""
      ],
      "execution_count": null,
      "outputs": []
    },
    {
      "cell_type": "code",
      "metadata": {
        "colab": {
          "base_uri": "https://localhost:8080/",
          "height": 137
        },
        "id": "ZKeuzinobzMA",
        "outputId": "034a8a19-15b2-4351-bb6d-206307ea5068"
      },
      "source": [
        "select(sql)"
      ],
      "execution_count": null,
      "outputs": [
        {
          "output_type": "execute_result",
          "data": {
            "text/html": [
              "<div>\n",
              "<style scoped>\n",
              "    .dataframe tbody tr th:only-of-type {\n",
              "        vertical-align: middle;\n",
              "    }\n",
              "\n",
              "    .dataframe tbody tr th {\n",
              "        vertical-align: top;\n",
              "    }\n",
              "\n",
              "    .dataframe thead th {\n",
              "        text-align: right;\n",
              "    }\n",
              "</style>\n",
              "<table border=\"1\" class=\"dataframe\">\n",
              "  <thead>\n",
              "    <tr style=\"text-align: right;\">\n",
              "      <th></th>\n",
              "      <th>housing</th>\n",
              "      <th>female</th>\n",
              "      <th>male</th>\n",
              "      <th>cnt</th>\n",
              "    </tr>\n",
              "  </thead>\n",
              "  <tbody>\n",
              "    <tr>\n",
              "      <th>0</th>\n",
              "      <td>free</td>\n",
              "      <td>19</td>\n",
              "      <td>89</td>\n",
              "      <td>108</td>\n",
              "    </tr>\n",
              "    <tr>\n",
              "      <th>1</th>\n",
              "      <td>own</td>\n",
              "      <td>196</td>\n",
              "      <td>517</td>\n",
              "      <td>713</td>\n",
              "    </tr>\n",
              "    <tr>\n",
              "      <th>2</th>\n",
              "      <td>rent</td>\n",
              "      <td>95</td>\n",
              "      <td>84</td>\n",
              "      <td>179</td>\n",
              "    </tr>\n",
              "  </tbody>\n",
              "</table>\n",
              "</div>"
            ],
            "text/plain": [
              "  housing  female  male  cnt\n",
              "0    free      19    89  108\n",
              "1     own     196   517  713\n",
              "2    rent      95    84  179"
            ]
          },
          "metadata": {
            "tags": []
          },
          "execution_count": 21
        }
      ]
    },
    {
      "cell_type": "code",
      "metadata": {
        "id": "MNf4tw1ob02E"
      },
      "source": [
        "sql = ''' select distinct t.purpose from german_credit t'''"
      ],
      "execution_count": null,
      "outputs": []
    },
    {
      "cell_type": "code",
      "metadata": {
        "id": "0hMpafmbcu1R"
      },
      "source": [
        "purpose = list(select(sql)['purpose'].values)"
      ],
      "execution_count": null,
      "outputs": []
    },
    {
      "cell_type": "code",
      "metadata": {
        "colab": {
          "base_uri": "https://localhost:8080/"
        },
        "id": "nj3G7My_cxIa",
        "outputId": "63c16447-3136-48fc-d490-abb2787e37bb"
      },
      "source": [
        "purpose"
      ],
      "execution_count": null,
      "outputs": [
        {
          "output_type": "execute_result",
          "data": {
            "text/plain": [
              "['radio/TV',\n",
              " 'car',\n",
              " 'education',\n",
              " 'furniture/equipment',\n",
              " 'repairs',\n",
              " 'business',\n",
              " 'domestic appliances',\n",
              " 'vacation/others']"
            ]
          },
          "metadata": {
            "tags": []
          },
          "execution_count": 30
        }
      ]
    },
    {
      "cell_type": "code",
      "metadata": {
        "colab": {
          "base_uri": "https://localhost:8080/"
        },
        "id": "IbxXwt8fdXdi",
        "outputId": "aa19bad7-28a6-4404-9396-b5a07fcd3bde"
      },
      "source": [
        "for p in purpose:\n",
        "  print(f\"count(case when t.purpose = '{p}' then 1 else null end) as {p.lower().replace(' ','_').replace('/','_')},\")"
      ],
      "execution_count": null,
      "outputs": [
        {
          "output_type": "stream",
          "text": [
            "count(case when t.purpose = 'radio/TV' then 1 else null end) as radio_tv,\n",
            "count(case when t.purpose = 'car' then 1 else null end) as car,\n",
            "count(case when t.purpose = 'education' then 1 else null end) as education,\n",
            "count(case when t.purpose = 'furniture/equipment' then 1 else null end) as furniture_equipment,\n",
            "count(case when t.purpose = 'repairs' then 1 else null end) as repairs,\n",
            "count(case when t.purpose = 'business' then 1 else null end) as business,\n",
            "count(case when t.purpose = 'domestic appliances' then 1 else null end) as domestic_appliances,\n",
            "count(case when t.purpose = 'vacation/others' then 1 else null end) as vacation_others,\n"
          ],
          "name": "stdout"
        }
      ]
    },
    {
      "cell_type": "code",
      "metadata": {
        "id": "heeWTfHBiCMj"
      },
      "source": [
        "sql = '''\n",
        "select t.housing, \n",
        "  count(case when t.purpose = 'radio/TV' then 1 else null end) as radio_tv,\n",
        "count(case when t.purpose = 'car' then 1 else null end) as car,\n",
        "count(case when t.purpose = 'education' then 1 else null end) as education,\n",
        "count(case when t.purpose = 'furniture/equipment' then 1 else null end) as furniture_equipment,\n",
        "count(case when t.purpose = 'repairs' then 1 else null end) as repairs,\n",
        "count(case when t.purpose = 'business' then 1 else null end) as business,\n",
        "count(case when t.purpose = 'domestic appliances' then 1 else null end) as domestic_appliances,\n",
        "count(case when t.purpose = 'vacation/others' then 1 else null end) as vacation_others,\n",
        "  count(*) as cnt\n",
        "  from german_credit t\n",
        "  group by t.housing\n",
        "'''"
      ],
      "execution_count": null,
      "outputs": []
    },
    {
      "cell_type": "code",
      "metadata": {
        "colab": {
          "base_uri": "https://localhost:8080/",
          "height": 137
        },
        "id": "xuDYCsyBkK6_",
        "outputId": "5d7e8372-650a-4613-b3fd-f74e1c3c1cc7"
      },
      "source": [
        "select(sql)"
      ],
      "execution_count": null,
      "outputs": [
        {
          "output_type": "execute_result",
          "data": {
            "text/html": [
              "<div>\n",
              "<style scoped>\n",
              "    .dataframe tbody tr th:only-of-type {\n",
              "        vertical-align: middle;\n",
              "    }\n",
              "\n",
              "    .dataframe tbody tr th {\n",
              "        vertical-align: top;\n",
              "    }\n",
              "\n",
              "    .dataframe thead th {\n",
              "        text-align: right;\n",
              "    }\n",
              "</style>\n",
              "<table border=\"1\" class=\"dataframe\">\n",
              "  <thead>\n",
              "    <tr style=\"text-align: right;\">\n",
              "      <th></th>\n",
              "      <th>housing</th>\n",
              "      <th>radio_tv</th>\n",
              "      <th>car</th>\n",
              "      <th>education</th>\n",
              "      <th>furniture_equipment</th>\n",
              "      <th>repairs</th>\n",
              "      <th>business</th>\n",
              "      <th>domestic_appliances</th>\n",
              "      <th>vacation_others</th>\n",
              "      <th>cnt</th>\n",
              "    </tr>\n",
              "  </thead>\n",
              "  <tbody>\n",
              "    <tr>\n",
              "      <th>0</th>\n",
              "      <td>free</td>\n",
              "      <td>15</td>\n",
              "      <td>55</td>\n",
              "      <td>15</td>\n",
              "      <td>11</td>\n",
              "      <td>3</td>\n",
              "      <td>5</td>\n",
              "      <td>0</td>\n",
              "      <td>4</td>\n",
              "      <td>108</td>\n",
              "    </tr>\n",
              "    <tr>\n",
              "      <th>1</th>\n",
              "      <td>own</td>\n",
              "      <td>227</td>\n",
              "      <td>219</td>\n",
              "      <td>34</td>\n",
              "      <td>122</td>\n",
              "      <td>17</td>\n",
              "      <td>76</td>\n",
              "      <td>10</td>\n",
              "      <td>8</td>\n",
              "      <td>713</td>\n",
              "    </tr>\n",
              "    <tr>\n",
              "      <th>2</th>\n",
              "      <td>rent</td>\n",
              "      <td>38</td>\n",
              "      <td>63</td>\n",
              "      <td>10</td>\n",
              "      <td>48</td>\n",
              "      <td>2</td>\n",
              "      <td>16</td>\n",
              "      <td>2</td>\n",
              "      <td>0</td>\n",
              "      <td>179</td>\n",
              "    </tr>\n",
              "  </tbody>\n",
              "</table>\n",
              "</div>"
            ],
            "text/plain": [
              "  housing  radio_tv  car  ...  domestic_appliances  vacation_others  cnt\n",
              "0    free        15   55  ...                    0                4  108\n",
              "1     own       227  219  ...                   10                8  713\n",
              "2    rent        38   63  ...                    2                0  179\n",
              "\n",
              "[3 rows x 10 columns]"
            ]
          },
          "metadata": {
            "tags": []
          },
          "execution_count": 51
        }
      ]
    },
    {
      "cell_type": "code",
      "metadata": {
        "id": "3XpCBWkHkMZE"
      },
      "source": [
        ""
      ],
      "execution_count": null,
      "outputs": []
    }
  ]
}